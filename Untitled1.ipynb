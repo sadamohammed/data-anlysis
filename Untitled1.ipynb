{
 "cells": [
  {
   "cell_type": "markdown",
   "id": "6c797819",
   "metadata": {},
   "source": [
    "project 3\n",
    "extacting dell laptops data from amazon.in website and saving its as.csv"
   ]
  },
  {
   "cell_type": "code",
   "execution_count": 1,
   "id": "04b54846",
   "metadata": {
    "scrolled": false
   },
   "outputs": [
    {
     "name": "stdout",
     "output_type": "stream",
     "text": [
      "Requirement already satisfied: selenium in c:\\users\\hp\\anaconda3\\lib\\site-packages (4.17.2)\n",
      "Requirement already satisfied: urllib3[socks]<3,>=1.26 in c:\\users\\hp\\anaconda3\\lib\\site-packages (from selenium) (1.26.16)\n",
      "Requirement already satisfied: trio~=0.17 in c:\\users\\hp\\anaconda3\\lib\\site-packages (from selenium) (0.24.0)\n",
      "Requirement already satisfied: trio-websocket~=0.9 in c:\\users\\hp\\anaconda3\\lib\\site-packages (from selenium) (0.11.1)\n",
      "Requirement already satisfied: certifi>=2021.10.8 in c:\\users\\hp\\anaconda3\\lib\\site-packages (from selenium) (2023.7.22)\n",
      "Requirement already satisfied: typing_extensions>=4.9.0 in c:\\users\\hp\\anaconda3\\lib\\site-packages (from selenium) (4.9.0)\n",
      "Requirement already satisfied: attrs>=20.1.0 in c:\\users\\hp\\anaconda3\\lib\\site-packages (from trio~=0.17->selenium) (22.1.0)\n",
      "Requirement already satisfied: sortedcontainers in c:\\users\\hp\\anaconda3\\lib\\site-packages (from trio~=0.17->selenium) (2.4.0)\n",
      "Requirement already satisfied: idna in c:\\users\\hp\\anaconda3\\lib\\site-packages (from trio~=0.17->selenium) (3.4)\n",
      "Requirement already satisfied: outcome in c:\\users\\hp\\anaconda3\\lib\\site-packages (from trio~=0.17->selenium) (1.3.0.post0)\n",
      "Requirement already satisfied: sniffio>=1.3.0 in c:\\users\\hp\\anaconda3\\lib\\site-packages (from trio~=0.17->selenium) (1.3.0)\n",
      "Requirement already satisfied: cffi>=1.14 in c:\\users\\hp\\anaconda3\\lib\\site-packages (from trio~=0.17->selenium) (1.15.1)\n",
      "Requirement already satisfied: wsproto>=0.14 in c:\\users\\hp\\anaconda3\\lib\\site-packages (from trio-websocket~=0.9->selenium) (1.2.0)\n",
      "Requirement already satisfied: PySocks!=1.5.7,<2.0,>=1.5.6 in c:\\users\\hp\\anaconda3\\lib\\site-packages (from urllib3[socks]<3,>=1.26->selenium) (1.7.1)\n",
      "Requirement already satisfied: pycparser in c:\\users\\hp\\anaconda3\\lib\\site-packages (from cffi>=1.14->trio~=0.17->selenium) (2.21)\n",
      "Requirement already satisfied: h11<1,>=0.9.0 in c:\\users\\hp\\anaconda3\\lib\\site-packages (from wsproto>=0.14->trio-websocket~=0.9->selenium) (0.14.0)\n"
     ]
    }
   ],
   "source": [
    "!pip install selenium"
   ]
  },
  {
   "cell_type": "code",
   "execution_count": 2,
   "id": "926d2e6b",
   "metadata": {
    "scrolled": true
   },
   "outputs": [
    {
     "name": "stdout",
     "output_type": "stream",
     "text": [
      "Requirement already satisfied: webdriver_manager in c:\\users\\hp\\anaconda3\\lib\\site-packages (4.0.1)\n",
      "Requirement already satisfied: requests in c:\\users\\hp\\anaconda3\\lib\\site-packages (from webdriver_manager) (2.31.0)\n",
      "Requirement already satisfied: python-dotenv in c:\\users\\hp\\anaconda3\\lib\\site-packages (from webdriver_manager) (0.21.0)\n",
      "Requirement already satisfied: packaging in c:\\users\\hp\\anaconda3\\lib\\site-packages (from webdriver_manager) (23.1)\n",
      "Requirement already satisfied: charset-normalizer<4,>=2 in c:\\users\\hp\\anaconda3\\lib\\site-packages (from requests->webdriver_manager) (2.0.4)\n",
      "Requirement already satisfied: idna<4,>=2.5 in c:\\users\\hp\\anaconda3\\lib\\site-packages (from requests->webdriver_manager) (3.4)\n",
      "Requirement already satisfied: urllib3<3,>=1.21.1 in c:\\users\\hp\\anaconda3\\lib\\site-packages (from requests->webdriver_manager) (1.26.16)\n",
      "Requirement already satisfied: certifi>=2017.4.17 in c:\\users\\hp\\anaconda3\\lib\\site-packages (from requests->webdriver_manager) (2023.7.22)\n"
     ]
    }
   ],
   "source": [
    "!pip install webdriver_manager"
   ]
  },
  {
   "cell_type": "code",
   "execution_count": 3,
   "id": "f9bc8dda",
   "metadata": {},
   "outputs": [
    {
     "name": "stdout",
     "output_type": "stream",
     "text": [
      "Requirement already satisfied: pandas in c:\\users\\hp\\anaconda3\\lib\\site-packages (2.0.3)\n",
      "Requirement already satisfied: python-dateutil>=2.8.2 in c:\\users\\hp\\anaconda3\\lib\\site-packages (from pandas) (2.8.2)\n",
      "Requirement already satisfied: pytz>=2020.1 in c:\\users\\hp\\anaconda3\\lib\\site-packages (from pandas) (2023.3.post1)\n",
      "Requirement already satisfied: tzdata>=2022.1 in c:\\users\\hp\\anaconda3\\lib\\site-packages (from pandas) (2023.3)\n",
      "Requirement already satisfied: numpy>=1.21.0 in c:\\users\\hp\\anaconda3\\lib\\site-packages (from pandas) (1.24.3)\n",
      "Requirement already satisfied: six>=1.5 in c:\\users\\hp\\anaconda3\\lib\\site-packages (from python-dateutil>=2.8.2->pandas) (1.16.0)\n"
     ]
    }
   ],
   "source": [
    "!pip install pandas"
   ]
  },
  {
   "cell_type": "code",
   "execution_count": 4,
   "id": "4d00aab1",
   "metadata": {},
   "outputs": [],
   "source": [
    "import selenium"
   ]
  },
  {
   "cell_type": "code",
   "execution_count": 5,
   "id": "32f7fcc3",
   "metadata": {},
   "outputs": [],
   "source": [
    "from selenium import webdriver"
   ]
  },
  {
   "cell_type": "code",
   "execution_count": 6,
   "id": "74092dd4",
   "metadata": {},
   "outputs": [],
   "source": [
    "from selenium.webdriver.chrome.options import Options\n",
    "from webdriver_manager.chrome import ChromeDriverManager\n",
    "from selenium.webdriver.common.by import By\n",
    "from selenium.webdriver.common.keys import Keys"
   ]
  },
  {
   "cell_type": "code",
   "execution_count": 7,
   "id": "67ab8bd0",
   "metadata": {},
   "outputs": [
    {
     "name": "stdout",
     "output_type": "stream",
     "text": [
      "chrome\n"
     ]
    }
   ],
   "source": [
    "#define options and sewt browser capabilities\n",
    "options=webdriver.ChromeOptions()\n",
    "options.add_argument('--some-option')\n",
    "#create webdriver.chrome(options=options)\n",
    "driver=webdriver.Chrome(options=options)\n",
    "#access browser capabilities\n",
    "browser_name=options.to_capabilities()[\"browserName\"]\n",
    "print(browser_name)"
   ]
  },
  {
   "cell_type": "code",
   "execution_count": 8,
   "id": "ab17db00",
   "metadata": {},
   "outputs": [],
   "source": [
    "#Navigate to a website\n",
    "driver.get('https://www.amazon.in/')"
   ]
  },
  {
   "cell_type": "code",
   "execution_count": 10,
   "id": "64450b8f",
   "metadata": {},
   "outputs": [],
   "source": [
    "search=driver.find_element(By.ID,\"twotabsearchtextbox\") "
   ]
  },
  {
   "cell_type": "code",
   "execution_count": 11,
   "id": "d5ac0b53",
   "metadata": {},
   "outputs": [],
   "source": [
    "search.send_keys(\"Dell laptops\")"
   ]
  },
  {
   "cell_type": "code",
   "execution_count": 12,
   "id": "f22f90ab",
   "metadata": {},
   "outputs": [],
   "source": [
    "driver.find_element(By.ID,\"nav-search-submit-button\").click()"
   ]
  },
  {
   "cell_type": "code",
   "execution_count": 13,
   "id": "46ceb77f",
   "metadata": {},
   "outputs": [],
   "source": [
    "driver.find_element(By.XPATH,\"//span[text()='Dell']\").click()"
   ]
  },
  {
   "cell_type": "code",
   "execution_count": 29,
   "id": "2dec6deb",
   "metadata": {},
   "outputs": [],
   "source": [
    "laptop_name=[]\n",
    "laptop_prices=[]\n",
    "review=[]"
   ]
  },
  {
   "cell_type": "markdown",
   "id": "bda5ed0c",
   "metadata": {},
   "source": []
  },
  {
   "cell_type": "markdown",
   "id": "62d72f63",
   "metadata": {},
   "source": []
  },
  {
   "cell_type": "code",
   "execution_count": 31,
   "id": "1c5addcc",
   "metadata": {},
   "outputs": [
    {
     "name": "stdout",
     "output_type": "stream",
     "text": [
      "['Dell 15 Laptop, Intel Core i5-1135G7 Processor/16GB DDR4/512GB SSD/Intel UHD Graphic/15.6\" (39.562cm) FHD Display/Win 11+MSO\\'21/15 Month McAfee/Spill-Resistant Keyboard/Carbon/Thin & Light 1.69kg', 'Dell 14 Laptop, 12th Gen Intel Core i5-1235U Processor, 16GB, 512GB, 14.0\" (35.56cm) FHD Display, Windows 11 + MSO\\'21, Spill-Resistant Keyboard, 15 Month Mcafee, Black, Thin & Light- 1.48kg', 'Dell 14 Laptop, AMD Ryzen R5-5500U/ 8GB DDR4, 2400 MHz/ 512GB/ 14.0\" (35.56cm) FHD Display with Comfort View/Windows 11 + MSO\\'21/15 Month McAfee/Spill-Resistant Keyboard/Carbon Black/ 1.48kg', 'Dell Inspiron 3520 Laptop, Intel Core i5-1235U Processor, 16GB,512GB,15.6\" (39.62cm) FHD Display, Backlit Keyboard, Win 11 + MSO\\'21,15 Month McAfee, Silver, Thin & Light-1.65kg', 'Dell Inspiron 3535 Laptop, AMD 7 Series Ryzen 5-7520U Processor/8GB/512GB/15.6\" (39.62cm) FHD WVA AG 120Hz 250 nits Display/Win 11 + MSO\\'21/15 Month McAfee/Platinum Silver/1.63kg', 'Dell 14 Laptop, 12th Gen Intel Core i5-1235U Processor, 16GB, 512GB, 14.0\" (35.56cm) FHD Display, Windows 11 + MSO\\'21, Spill-Resistant Keyboard, 15 Month Mcafee, Black, Thin & Light- 1.48kg', 'Dell 14 Laptop, 12th Gen Intel Core i3-1215U Processor/8GB/512GB SSD/Intel UHD Graphics/14.0\"(35.56cm) FHD/Windows 11 + MSO\\'21/15 Month McAfee/Spill-Resistant Keyboard/Grey/Thin & Light 1.48kg', 'Dell Inspiron 7430 2in1 Touch Laptop, 13th Gen Intel Core i3-1315U/8GB/1TB SSD/14.0\" (35.56cm) FHD+,16:10 Aspect Ratio/Backlit KB+FPR/Win 11+MSO\\'21/15 Months McAfee/Platinum Silver/Thin & Light-1.58kg', 'Dell 15 Laptop, Intel Core i5-1135G7 Processor/ 8GB/ 1TB+256GB SSD/15.6\"(39.62cm) FHD Display/Mobile Connect/Windows 11 + MSO\\'21/15 Month McAfee/Spill-Resistant Keyboard/Black/Thin & Light 1.69kg', 'Dell Inspiron 3530 Laptop, 13th Gen Intel Core i5-1335U Processor/16GB/1TB SSD/15.6\" (39.62cm) FHD Display/Backlit Keyboard/Platinum Silver/Win 11 + MSO\\'21/15 Month McAfee/Thin & Light- 1.66kg', 'Dell G15 5520 Gaming Laptop, Intel i5-12500H/16GB DDR5/1TB SSD/15.6\" (39.62cm) FHD WVA AG 120Hz 250 nits/NVIDIA RTX 3050, 4 GB GDDR6/Win 11 + MSO\\'21/15 Months McAfee/Backlit KB/Dark Shadow Grey/2.81kg', 'Dell 15 Laptop, Intel Core i3-1115G4 Processor/8GB DDR4/512GB SSD/Intel UHD Graphics/15.6\" (39.6cm) FHD 120Hz Refresh, 250 nits/Mobile Connect/Win 11+MSO\\'21/15 Month McAfee/Black/Thin & Light-1.66kg', 'Dell 14 Laptop, Intel Core i5-1135G7 Processor/8GB/512GB/Intel UHD Graphic/14.0\" (35.6cm) FHD with Comfort View/Spill-Resistant Keyboard/Thin & Light 1.48kg/ Win 11+ MSO\\'21/15 Month McAfee/Titan Grey', '(Renewed) DELL Latitude 5490 Core i5 8th Gen Laptop, 16 GB RAM, 512GB SSD, Intel HD Graphics, 14 inch (36.83 cms) HD Screen, Windows 11 (Upgraded), MS Office, Black, Slim', 'Dell Inspiron 7430 2in1 Touch Laptop, 13th Gen Intel Core i3-1315U/8GB/1TB SSD/14.0\" (35.56cm) FHD+,16:10 Aspect Ratio/Backlit KB+FPR/Win 11+MSO\\'21/15 Months McAfee/Platinum Silver/Thin & Light-1.58kg', 'Dell Inspiron 5430 13th Gen Laptop, Intel Core i5-1335U Processor/16GB/ 512GB SSD/14.0\" (35.56cm) FHD+/Backlit KB + FPR/Win 11 + MSO\\'2/McAfee 15 Months/Silver/Thunderbolt 4.0 Port/Thin & Light-1.59kg', 'Dell 14, Intel 12th Gen i5-1235U Laptop/8GB/512GB SSD/14.0\" (35.56cm) FHD TÃœV Rheinland Certified Comfortview to Reduce Harmful Blue Light Emission/Windows 11 + MSO\\'21/Black/15 Month McAfee,1.48kg', 'Dell New 14\" Latitude 3420- i3 11th Gen || 8 GB || 512 GB SSD || 14\" Full HD 1920 x 1080 Pixels || Ubuntu-Dos || 1 Year Onsite with ADP Warranty', 'Dell Inspiron 5430 Laptop, 13th Gen Intel Core i7-1360P Processor/16GB/1TB SSD/14.0\" (35.56cm) FHD+ WVA 250 nits/Backlit KB + FPR/Win 11 + MSO\\'21/15 Month McAfee/Platinum Silver/Thin & Light- 1.59kg', 'Dell Inspiron 3530 Laptop, Intel Core i7-1355U Processor, 16GB, 512GB, 15.6\" (39.62cm) FHD WVA AG 120Hz, Backlit KB + FPR, Win 11 + MSO\\'21, 15 Month McAfee, Silver, 1.62kg', 'Dell Inspiron 5330 Laptop, Intel Evo Platform Powered by Intel Core i7-1360P Processor/16GB LP DDR5/1TB SSD/13.3\" (33.78cm) QHD+ 300 nits/Win 11 + MSO\\'21/15 Month McAfee/Platinum Silver/1.24kg', 'Dell New G15-5515 Gaming Laptop, AMD Ryzen5-5600H, Win 11 + MSO\\'21, 16Gb Gddr4, 512Gb SSD, Nvidia RTX 3050 (4Gb Gddr6), 15.6\" (39.62Cms) FHD AG 250 Nits 120Hz, Backlit KB Orange, 2.57Kgs', 'Dell 14 Premium Metal Laptop, AMD Ryzen 5-5625U, 16GB, 512GB, 14.0\" (35.56CM) FHD Display, Backlit KB + FPR, Win 11 + MSO\\'21, 15 Month McAfee, Dark Silver, Thin & Light-1.48kg', 'Dell Inspiron 3520 Laptop, Intel Core i3-1215U Processor, 8GB & 256GB SSD, 15.6\" (39.62Cm) FHD WVA AG 120Hz 250 nits, Win 11 + MSO\\'21, Carbon Black, 15 Months McAfee, Thin & Light- 1.65KG', 'Dell G15-5530 Gaming Laptop, Intel Core i5-13450HX Processor, 16GB DDR5, 1TB, NVIDIA RTX 3050,6GB GDDR6, 15.6\" (39.62cm) FHD 120Hz 250 nits, Backlit KB Orange,Win 11 + MSO\\'21, Dark Shadow Gray, 2.65kg', 'Dell Inspiron 7430 2in1 Touch Laptop, Intel Core i5-1335U Processor/ 16GB LP DDR5/ 1TB SSD/14.0\" (35.56cm) FHD+/ Active Pen/Win 11 + MSO\\'21/15 Month McAfee/Platinum Silver/Thin & Light- 1.58kg', 'Dell G15-5525 Gaming Laptop, AMD Ryzen 7-6800H, 16GB DDR5, 1TB SSD, NVIDIA RTX 3070 Ti (8GB GDDR6), 15.6\" (39.62Cm) FHD WVA AG, 165 Hz 300 nits, Win 11+ MSO\\'21, Phantom Grey, 15 Month McAfee, 2.51Kg', 'Dell Inspiron 5320 Laptop, Intel Core i5-1240P Processor, 16GB, 512GB,13.3\" (33.78cm) QHD+, Backlit KB + FPR, Win 11 + MSO\\'21, 15 Month McAfee, FHD Camera with Privacy Shutter, Platinum Silver,1.25kg', 'Dell G15 5520 Gaming Laptop, Intel i5-12500H, 16GB DDR5, 512GB SSD, NVIDIA RTX 3050 (4GB GDDR6), 15.6\"(39.62cm) FHD 120Hz 250 nits Display, Backlit KB Orange, Win 11 + MSO\\'21, Dark Shadow Grey, 2.81kg', 'Dell 14 Laptop, 13th Gen Intel Core i5-1335U Processor/ 8GB/ 512GB SSD/ 14.0\" (35.56cm) FHD/Windows 11 + MSO\\'21/15 Month McAfee/Spill-Resistant Keyboard/Carbon Black/Thin & Light- 1.46kg']\n"
     ]
    }
   ],
   "source": [
    "names=driver.find_elements(By.XPATH,\"//span[@class='a-size-medium a-color-base a-text-normal']\")\n",
    "laptop_name=[i.text for i in names]\n",
    "print(laptop_name)"
   ]
  },
  {
   "cell_type": "code",
   "execution_count": 32,
   "id": "0ace4c7d",
   "metadata": {},
   "outputs": [
    {
     "name": "stdout",
     "output_type": "stream",
     "text": [
      "30\n"
     ]
    }
   ],
   "source": [
    "print(len(laptop_name))"
   ]
  },
  {
   "cell_type": "code",
   "execution_count": 33,
   "id": "90700535",
   "metadata": {},
   "outputs": [
    {
     "name": "stdout",
     "output_type": "stream",
     "text": [
      "['34,990', '33,990', '35,990', '47,990', '49,990', '35,990', '55,280', '38,990', '49,990', '35,990', '57,990', '44,990', '67,490', '75,990', '33,990', '44,990', '23,649', '57,990', '68,990', '46,990', '30,630', '83,490', '71,490', '98,990', '78,490', '50,490', '34,380', '81,490', '82,990', '1,08,599', '75,490', '72,990', '56,990']\n"
     ]
    }
   ],
   "source": [
    "price=driver.find_elements(By.XPATH,\"//span[@class='a-price-whole']\")\n",
    "laptop_prices=[i.text for i in price]\n",
    "print(laptop_prices)"
   ]
  },
  {
   "cell_type": "code",
   "execution_count": 38,
   "id": "0ef8cdec",
   "metadata": {},
   "outputs": [
    {
     "name": "stdout",
     "output_type": "stream",
     "text": [
      "30\n"
     ]
    }
   ],
   "source": [
    "laptop_prices.pop(0)\n",
    "laptop_prices.pop(1)\n",
    "laptop_prices.pop(2)\n",
    "print(len(laptop_prices))"
   ]
  },
  {
   "cell_type": "code",
   "execution_count": 34,
   "id": "605efcf0",
   "metadata": {},
   "outputs": [
    {
     "name": "stdout",
     "output_type": "stream",
     "text": [
      "33\n"
     ]
    }
   ],
   "source": [
    "print(len(laptop_prices))"
   ]
  },
  {
   "cell_type": "code",
   "execution_count": 36,
   "id": "41ea950b",
   "metadata": {},
   "outputs": [
    {
     "name": "stdout",
     "output_type": "stream",
     "text": [
      "['607', '72', '4', '2', '4', '72', '239', '179', '607', '13', '517', '631', '2', '506', '179', '82', '138', '1', '82', '1', '6', '71', '1', '195', '11', '27', '5', '11', '517', '34']\n"
     ]
    }
   ],
   "source": [
    "reviews=driver.find_elements(By .XPATH,\"//span[@class='a-size-base s-underline-text']\")\n",
    "laptop_reviews=[i.text for i in reviews]\n",
    "print(laptop_reviews)"
   ]
  },
  {
   "cell_type": "code",
   "execution_count": 37,
   "id": "3d76b1d1",
   "metadata": {},
   "outputs": [
    {
     "name": "stdout",
     "output_type": "stream",
     "text": [
      "30\n"
     ]
    }
   ],
   "source": [
    "print(len(laptop_reviews))"
   ]
  },
  {
   "cell_type": "code",
   "execution_count": 43,
   "id": "1331f371",
   "metadata": {},
   "outputs": [],
   "source": [
    "import pandas as pd"
   ]
  },
  {
   "cell_type": "code",
   "execution_count": 52,
   "id": "44e3885f",
   "metadata": {},
   "outputs": [
    {
     "name": "stdout",
     "output_type": "stream",
     "text": [
      "Empty DataFrame\n",
      "Columns: [laptop name, laptop prices, laptop reviews]\n",
      "Index: []\n"
     ]
    }
   ],
   "source": [
    "df=pd.DataFrame(columns=['laptop name','laptop prices','laptop reviews'])\n",
    "print(df)"
   ]
  },
  {
   "cell_type": "code",
   "execution_count": 53,
   "id": "9500cbdd",
   "metadata": {},
   "outputs": [],
   "source": [
    "df['laptop name']=laptop_name\n",
    "df['laptop prices']=laptop_prices\n",
    "df['laptop reviews']=laptop_reviews"
   ]
  },
  {
   "cell_type": "code",
   "execution_count": 54,
   "id": "eb203442",
   "metadata": {},
   "outputs": [
    {
     "name": "stdout",
     "output_type": "stream",
     "text": [
      "                                          laptop name laptop prices  \\\n",
      "0   Dell 15 Laptop, Intel Core i5-1135G7 Processor...        33,990   \n",
      "1   Dell 14 Laptop, 12th Gen Intel Core i5-1235U P...        47,990   \n",
      "2   Dell 14 Laptop, AMD Ryzen R5-5500U/ 8GB DDR4, ...        35,990   \n",
      "3   Dell Inspiron 3520 Laptop, Intel Core i5-1235U...        55,280   \n",
      "4   Dell Inspiron 3535 Laptop, AMD 7 Series Ryzen ...        38,990   \n",
      "5   Dell 14 Laptop, 12th Gen Intel Core i5-1235U P...        49,990   \n",
      "6   Dell 14 Laptop, 12th Gen Intel Core i3-1215U P...        35,990   \n",
      "7   Dell Inspiron 7430 2in1 Touch Laptop, 13th Gen...        57,990   \n",
      "8   Dell 15 Laptop, Intel Core i5-1135G7 Processor...        44,990   \n",
      "9   Dell Inspiron 3530 Laptop, 13th Gen Intel Core...        67,490   \n",
      "10  Dell G15 5520 Gaming Laptop, Intel i5-12500H/1...        75,990   \n",
      "11  Dell 15 Laptop, Intel Core i3-1115G4 Processor...        33,990   \n",
      "12  Dell 14 Laptop, Intel Core i5-1135G7 Processor...        44,990   \n",
      "13  (Renewed) DELL Latitude 5490 Core i5 8th Gen L...        23,649   \n",
      "14  Dell Inspiron 7430 2in1 Touch Laptop, 13th Gen...        57,990   \n",
      "15  Dell Inspiron 5430 13th Gen Laptop, Intel Core...        68,990   \n",
      "16  Dell 14, Intel 12th Gen i5-1235U Laptop/8GB/51...        46,990   \n",
      "17  Dell New 14\" Latitude 3420- i3 11th Gen || 8 G...        30,630   \n",
      "18  Dell Inspiron 5430 Laptop, 13th Gen Intel Core...        83,490   \n",
      "19  Dell Inspiron 3530 Laptop, Intel Core i7-1355U...        71,490   \n",
      "20  Dell Inspiron 5330 Laptop, Intel Evo Platform ...        98,990   \n",
      "21  Dell New G15-5515 Gaming Laptop, AMD Ryzen5-56...        78,490   \n",
      "22  Dell 14 Premium Metal Laptop, AMD Ryzen 5-5625...        50,490   \n",
      "23  Dell Inspiron 3520 Laptop, Intel Core i3-1215U...        34,380   \n",
      "24  Dell G15-5530 Gaming Laptop, Intel Core i5-134...        81,490   \n",
      "25  Dell Inspiron 7430 2in1 Touch Laptop, Intel Co...        82,990   \n",
      "26  Dell G15-5525 Gaming Laptop, AMD Ryzen 7-6800H...      1,08,599   \n",
      "27  Dell Inspiron 5320 Laptop, Intel Core i5-1240P...        75,490   \n",
      "28  Dell G15 5520 Gaming Laptop, Intel i5-12500H, ...        72,990   \n",
      "29  Dell 14 Laptop, 13th Gen Intel Core i5-1335U P...        56,990   \n",
      "\n",
      "   laptop reviews  \n",
      "0             607  \n",
      "1              72  \n",
      "2               4  \n",
      "3               2  \n",
      "4               4  \n",
      "5              72  \n",
      "6             239  \n",
      "7             179  \n",
      "8             607  \n",
      "9              13  \n",
      "10            517  \n",
      "11            631  \n",
      "12              2  \n",
      "13            506  \n",
      "14            179  \n",
      "15             82  \n",
      "16            138  \n",
      "17              1  \n",
      "18             82  \n",
      "19              1  \n",
      "20              6  \n",
      "21             71  \n",
      "22              1  \n",
      "23            195  \n",
      "24             11  \n",
      "25             27  \n",
      "26              5  \n",
      "27             11  \n",
      "28            517  \n",
      "29             34  \n"
     ]
    }
   ],
   "source": [
    "print(df)"
   ]
  },
  {
   "cell_type": "code",
   "execution_count": 55,
   "id": "ced0280c",
   "metadata": {},
   "outputs": [],
   "source": [
    "df.to_csv(\"Dell_data.csv\")"
   ]
  },
  {
   "cell_type": "code",
   "execution_count": null,
   "id": "f198033c",
   "metadata": {
    "collapsed": true
   },
   "outputs": [],
   "source": []
  }
 ],
 "metadata": {
  "kernelspec": {
   "display_name": "Python 3 (ipykernel)",
   "language": "python",
   "name": "python3"
  },
  "language_info": {
   "codemirror_mode": {
    "name": "ipython",
    "version": 3
   },
   "file_extension": ".py",
   "mimetype": "text/x-python",
   "name": "python",
   "nbconvert_exporter": "python",
   "pygments_lexer": "ipython3",
   "version": "3.11.5"
  }
 },
 "nbformat": 4,
 "nbformat_minor": 5
}
