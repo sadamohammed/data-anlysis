{
  "nbformat": 4,
  "nbformat_minor": 0,
  "metadata": {
    "colab": {
      "provenance": []
    },
    "kernelspec": {
      "name": "python3",
      "display_name": "Python 3"
    },
    "language_info": {
      "name": "python"
    }
  },
  "cells": [
    {
      "cell_type": "code",
      "execution_count": null,
      "metadata": {
        "colab": {
          "base_uri": "https://localhost:8080/"
        },
        "id": "hfQj3xF_qYkT",
        "outputId": "dbbcea03-ca07-4f16-d867-eec99260223d"
      },
      "outputs": [
        {
          "output_type": "stream",
          "name": "stdout",
          "text": [
            "my age is 18\n"
          ]
        }
      ],
      "source": [
        "a=18\n",
        "print(\"my age is\",a)"
      ]
    },
    {
      "cell_type": "code",
      "source": [],
      "metadata": {
        "id": "yQB0s13lrfFy"
      },
      "execution_count": null,
      "outputs": []
    },
    {
      "cell_type": "markdown",
      "source": [
        "Operators:"
      ],
      "metadata": {
        "id": "B-LLHfZkrlMR"
      }
    },
    {
      "cell_type": "code",
      "source": [
        "#arthematic\n",
        "a=5\n",
        "b=20\n",
        "print(a+b)"
      ],
      "metadata": {
        "colab": {
          "base_uri": "https://localhost:8080/"
        },
        "id": "Uc5QW852rrJZ",
        "outputId": "94048912-8ce2-46cb-82bc-acc0794de301"
      },
      "execution_count": null,
      "outputs": [
        {
          "output_type": "stream",
          "name": "stdout",
          "text": [
            "25\n"
          ]
        }
      ]
    },
    {
      "cell_type": "code",
      "source": [
        "#power\n",
        "print(2**6)"
      ],
      "metadata": {
        "colab": {
          "base_uri": "https://localhost:8080/"
        },
        "id": "WcHFd56BsHbM",
        "outputId": "97c9839a-1ae7-4797-f803-f3af253e5304"
      },
      "execution_count": null,
      "outputs": [
        {
          "output_type": "stream",
          "name": "stdout",
          "text": [
            "64\n"
          ]
        }
      ]
    },
    {
      "cell_type": "code",
      "source": [
        "#float division\n",
        "print(12//2)"
      ],
      "metadata": {
        "colab": {
          "base_uri": "https://localhost:8080/"
        },
        "id": "MHNReROmsUNT",
        "outputId": "7902024f-f6e8-45cb-e5b2-4418ab09eb18"
      },
      "execution_count": null,
      "outputs": [
        {
          "output_type": "stream",
          "name": "stdout",
          "text": [
            "6\n"
          ]
        }
      ]
    },
    {
      "cell_type": "code",
      "source": [
        "#relational\n",
        "a=2\n",
        "b=2\n",
        "print(a==b)\n",
        "print(a<b)\n",
        "print(a>=b)\n",
        "print(a<=b)\n",
        "print(a!=b)"
      ],
      "metadata": {
        "colab": {
          "base_uri": "https://localhost:8080/"
        },
        "id": "is0ZuvrLsjVp",
        "outputId": "7efa6f41-2966-432a-e399-fd983f309dba"
      },
      "execution_count": null,
      "outputs": [
        {
          "output_type": "stream",
          "name": "stdout",
          "text": [
            "True\n",
            "False\n",
            "True\n",
            "True\n",
            "False\n"
          ]
        }
      ]
    },
    {
      "cell_type": "code",
      "source": [
        "#logical\n",
        "a=6\n",
        "b=26\n",
        "print(a>b) and (a<b)"
      ],
      "metadata": {
        "colab": {
          "base_uri": "https://localhost:8080/"
        },
        "id": "cQnemO-utS90",
        "outputId": "059e469d-2f4b-4ce3-9577-cb588cd518ab"
      },
      "execution_count": null,
      "outputs": [
        {
          "output_type": "stream",
          "name": "stdout",
          "text": [
            "False\n"
          ]
        }
      ]
    },
    {
      "cell_type": "code",
      "source": [
        "print((a>b) or (a<b))\n"
      ],
      "metadata": {
        "colab": {
          "base_uri": "https://localhost:8080/"
        },
        "id": "b2q9a63UtwKy",
        "outputId": "9d27eadb-684f-4dbc-b75f-99dd6b56d195"
      },
      "execution_count": null,
      "outputs": [
        {
          "output_type": "stream",
          "name": "stdout",
          "text": [
            "True\n"
          ]
        }
      ]
    },
    {
      "cell_type": "code",
      "source": [
        "#membership operators\n",
        "a=\"pirate\"\n",
        "print(\"a\" not in a)\n",
        "print(\"a\" in a)"
      ],
      "metadata": {
        "colab": {
          "base_uri": "https://localhost:8080/"
        },
        "id": "41pBfkIJt9ke",
        "outputId": "40cf3696-8f3a-4668-bcdd-6845855c4013"
      },
      "execution_count": null,
      "outputs": [
        {
          "output_type": "stream",
          "name": "stdout",
          "text": [
            "False\n",
            "True\n"
          ]
        }
      ]
    },
    {
      "cell_type": "markdown",
      "source": [
        "Control flow"
      ],
      "metadata": {
        "id": "F1rZNzDxuuzI"
      }
    },
    {
      "cell_type": "code",
      "source": [
        "#write a program to get a number from the user and check whether it is positive or negative\n",
        "a=int(input(\"enter a number\"))\n",
        "print(type(a))\n",
        "if(a>0):\n",
        "  print(\"positive\")\n",
        "elif(a==0):\n",
        "  print(\"neutral\")\n",
        "else:\n",
        "  print(\"negative\")\n"
      ],
      "metadata": {
        "colab": {
          "base_uri": "https://localhost:8080/"
        },
        "id": "cpNcNCcOu14F",
        "outputId": "b18465a6-59b5-49ba-eefb-4bfa7c6c7d00"
      },
      "execution_count": null,
      "outputs": [
        {
          "output_type": "stream",
          "name": "stdout",
          "text": [
            "enter a number0\n",
            "<class 'int'>\n",
            "neutral\n"
          ]
        }
      ]
    },
    {
      "cell_type": "markdown",
      "source": [
        "looping"
      ],
      "metadata": {
        "id": "hg7sh8iu0lj4"
      }
    },
    {
      "cell_type": "code",
      "source": [
        "n=6\n",
        "for i in range(1,11,1):\n",
        "  print(n,\"*\",i,\"=\",n*i)"
      ],
      "metadata": {
        "colab": {
          "base_uri": "https://localhost:8080/"
        },
        "id": "7KhdZ-TK0mye",
        "outputId": "38c37765-18da-4be1-92c5-9f76595fef1e"
      },
      "execution_count": null,
      "outputs": [
        {
          "output_type": "stream",
          "name": "stdout",
          "text": [
            "6 * 1 = 6\n",
            "6 * 2 = 12\n",
            "6 * 3 = 18\n",
            "6 * 4 = 24\n",
            "6 * 5 = 30\n",
            "6 * 6 = 36\n",
            "6 * 7 = 42\n",
            "6 * 8 = 48\n",
            "6 * 9 = 54\n",
            "6 * 10 = 60\n"
          ]
        }
      ]
    },
    {
      "cell_type": "markdown",
      "source": [
        "type casting"
      ],
      "metadata": {
        "id": "iCDTlJcy2TMj"
      }
    },
    {
      "cell_type": "code",
      "source": [
        "#implicit\n",
        "a=25.5\n",
        "b=6\n",
        "print(a*b)#interpreter automatically prints the values in the float datatype"
      ],
      "metadata": {
        "colab": {
          "base_uri": "https://localhost:8080/"
        },
        "id": "ZGVmz0oB2YS2",
        "outputId": "5a319bb5-6f7a-4975-9fb2-ab719668aacf"
      },
      "execution_count": null,
      "outputs": [
        {
          "output_type": "stream",
          "name": "stdout",
          "text": [
            "153.0\n"
          ]
        }
      ]
    },
    {
      "cell_type": "code",
      "source": [
        "#explicit\n",
        "a=25.5\n",
        "b=6\n",
        "print(int(a*b))#user conversion\n"
      ],
      "metadata": {
        "colab": {
          "base_uri": "https://localhost:8080/"
        },
        "id": "jxuzbrHH3sAz",
        "outputId": "1a2cbb5d-6a55-4977-ca08-01a30ef78486"
      },
      "execution_count": null,
      "outputs": [
        {
          "output_type": "stream",
          "name": "stdout",
          "text": [
            "153\n"
          ]
        }
      ]
    },
    {
      "cell_type": "code",
      "source": [],
      "metadata": {
        "id": "w8oOpNvY4Gvy"
      },
      "execution_count": null,
      "outputs": []
    },
    {
      "cell_type": "markdown",
      "source": [
        "slicing"
      ],
      "metadata": {
        "id": "PH8Bib9W4i6l"
      }
    },
    {
      "cell_type": "code",
      "source": [
        "a=\"python is easy\"\n",
        "print(a[0:6])"
      ],
      "metadata": {
        "colab": {
          "base_uri": "https://localhost:8080/"
        },
        "id": "v0kcNlnL4kSN",
        "outputId": "40972a28-4db8-4fce-aaab-cacd580d409d"
      },
      "execution_count": null,
      "outputs": [
        {
          "output_type": "stream",
          "name": "stdout",
          "text": [
            "python\n"
          ]
        }
      ]
    },
    {
      "cell_type": "code",
      "source": [
        "a=\"python is easy\"\n",
        "print(a[::2])\n"
      ],
      "metadata": {
        "colab": {
          "base_uri": "https://localhost:8080/"
        },
        "id": "VtECMa6l5p9X",
        "outputId": "780372ae-2fa8-42ab-cc85-a69fa77ee7ab"
      },
      "execution_count": null,
      "outputs": [
        {
          "output_type": "stream",
          "name": "stdout",
          "text": [
            "pto ses\n"
          ]
        }
      ]
    },
    {
      "cell_type": "code",
      "source": [
        "#table using while loop\n",
        "n=int(input(\"enter a value\"))\n",
        "i=1\n",
        "while(i<=10):\n",
        "  print(n,\"*\",i,\"=\",n*i)\n",
        "  i=i+1"
      ],
      "metadata": {
        "colab": {
          "base_uri": "https://localhost:8080/"
        },
        "id": "MCfyhTyI57fR",
        "outputId": "3839d444-628b-4202-8e53-d8aa4f77d3c7"
      },
      "execution_count": null,
      "outputs": [
        {
          "output_type": "stream",
          "name": "stdout",
          "text": [
            "enter a value11\n",
            "11 * 1 = 11\n",
            "11 * 2 = 22\n",
            "11 * 3 = 33\n",
            "11 * 4 = 44\n",
            "11 * 5 = 55\n",
            "11 * 6 = 66\n",
            "11 * 7 = 77\n",
            "11 * 8 = 88\n",
            "11 * 9 = 99\n",
            "11 * 10 = 110\n"
          ]
        }
      ]
    },
    {
      "cell_type": "markdown",
      "source": [
        "collections\n",
        "list:is a collection of elements\n",
        "heterogeneous\n",
        "mutable"
      ],
      "metadata": {
        "id": "OzI9raGm8K2I"
      }
    },
    {
      "cell_type": "markdown",
      "source": [],
      "metadata": {
        "id": "yrV5yIem9lnP"
      }
    },
    {
      "cell_type": "code",
      "source": [
        "list=[1,\"sada\",6.0]\n",
        "print(list)"
      ],
      "metadata": {
        "colab": {
          "base_uri": "https://localhost:8080/"
        },
        "id": "fe62cZ5O8MbC",
        "outputId": "c739bc15-2977-4cb8-d837-3293389d85ef"
      },
      "execution_count": null,
      "outputs": [
        {
          "output_type": "stream",
          "name": "stdout",
          "text": [
            "[1, 'sada', 6.0]\n"
          ]
        }
      ]
    },
    {
      "cell_type": "code",
      "source": [
        "for i in list:\n",
        "  print(i)"
      ],
      "metadata": {
        "colab": {
          "base_uri": "https://localhost:8080/"
        },
        "id": "cHPFESzS-cUi",
        "outputId": "c0ff814f-40da-4d0f-c618-47b15d9495fc"
      },
      "execution_count": null,
      "outputs": [
        {
          "output_type": "stream",
          "name": "stdout",
          "text": [
            "1\n",
            "sada\n",
            "6.0\n"
          ]
        }
      ]
    },
    {
      "cell_type": "code",
      "source": [
        "list.append(2)\n",
        "print(list)"
      ],
      "metadata": {
        "colab": {
          "base_uri": "https://localhost:8080/"
        },
        "id": "69OuOR25_kmB",
        "outputId": "ddedc363-c0c6-457c-db38-590388f47f33"
      },
      "execution_count": null,
      "outputs": [
        {
          "output_type": "stream",
          "name": "stdout",
          "text": [
            "[1, 'sada', 6.0, 2]\n"
          ]
        }
      ]
    },
    {
      "cell_type": "code",
      "source": [
        "#insert\n",
        "list.insert(2,\"hi\")\n",
        "print(list)"
      ],
      "metadata": {
        "colab": {
          "base_uri": "https://localhost:8080/"
        },
        "id": "SojIpgCrABzi",
        "outputId": "6b09c546-7466-4808-8a54-16e087b7fcec"
      },
      "execution_count": null,
      "outputs": [
        {
          "output_type": "stream",
          "name": "stdout",
          "text": [
            "[1, 'sada', 'hi', 6.0, 2]\n"
          ]
        }
      ]
    },
    {
      "cell_type": "code",
      "source": [
        "l1=[1,2,3,4,5]\n",
        "l2=[6,7,8,9,10]\n",
        "l1.extend(l2)\n",
        "print(l1)"
      ],
      "metadata": {
        "colab": {
          "base_uri": "https://localhost:8080/"
        },
        "id": "N0Fp2Q_CBTxG",
        "outputId": "06215d86-0f3a-4360-d132-a62a842df368"
      },
      "execution_count": null,
      "outputs": [
        {
          "output_type": "stream",
          "name": "stdout",
          "text": [
            "[1, 2, 3, 4, 5, 6, 7, 8, 9, 10]\n"
          ]
        }
      ]
    },
    {
      "cell_type": "code",
      "source": [
        "l1.remove(5)\n",
        "print(l1)\n"
      ],
      "metadata": {
        "colab": {
          "base_uri": "https://localhost:8080/"
        },
        "id": "Tq2BIjHxCmQd",
        "outputId": "4ebe3990-14bf-47bd-b552-a4442d831055"
      },
      "execution_count": null,
      "outputs": [
        {
          "output_type": "stream",
          "name": "stdout",
          "text": [
            "[1, 2, 3, 4, 6, 7, 8, 9, 10]\n"
          ]
        }
      ]
    },
    {
      "cell_type": "code",
      "source": [
        "l1.pop(1)\n",
        "print(l1)"
      ],
      "metadata": {
        "colab": {
          "base_uri": "https://localhost:8080/"
        },
        "id": "4x8Es-u8C_zh",
        "outputId": "0efe0c61-da8f-4c51-c8ed-e2a0e69a29fa"
      },
      "execution_count": null,
      "outputs": [
        {
          "output_type": "stream",
          "name": "stdout",
          "text": [
            "[1, 3, 4, 6, 7, 8, 9, 10]\n"
          ]
        }
      ]
    },
    {
      "cell_type": "markdown",
      "source": [
        "list comprehension\n",
        "-iterators\n",
        "-applies some functionality on every element\n",
        "-conditions\n",
        "-output"
      ],
      "metadata": {
        "id": "GuiGNrZfEbQ8"
      }
    },
    {
      "cell_type": "code",
      "source": [
        "l1=[45,67,89,90]\n",
        "l2=[i**2 for i in l1]#output iterator condition\n",
        "print(l2)"
      ],
      "metadata": {
        "colab": {
          "base_uri": "https://localhost:8080/"
        },
        "id": "5eF4iQ3iEw8W",
        "outputId": "8926468b-6563-45ac-f072-525c99777b01"
      },
      "execution_count": null,
      "outputs": [
        {
          "output_type": "stream",
          "name": "stdout",
          "text": [
            "[2025, 4489, 7921, 8100]\n"
          ]
        }
      ]
    },
    {
      "cell_type": "code",
      "source": [
        "l2=[i**2 for i in l1 if i>50]\n",
        "print(l2)"
      ],
      "metadata": {
        "colab": {
          "base_uri": "https://localhost:8080/"
        },
        "id": "9lIZFrEHGHdD",
        "outputId": "eca124cb-9bd5-43d3-c8dd-e48613a9a963"
      },
      "execution_count": null,
      "outputs": [
        {
          "output_type": "stream",
          "name": "stdout",
          "text": [
            "[4489, 7921, 8100]\n"
          ]
        }
      ]
    },
    {
      "cell_type": "markdown",
      "source": [
        "# the salaries of an employee is in the company is taken as a list the tax is 10 percent is less than 50k or it is 15%\n",
        "#create a new list with tax amounts\n",
        "#[67k,45k,89k,34k,50k]\n",
        "#list_name=[(body of if)       condition      else     (body of else)   iterator]"
      ],
      "metadata": {
        "id": "yGGRaLPtIf2t"
      }
    },
    {
      "cell_type": "code",
      "source": [
        "sal=[67000,45000,89000,34000,50000]\n",
        "tax=[]\n",
        "for i in sal:\n",
        "  if i<=50000:\n",
        "    t=i*0.1\n",
        "    tax.append(t)\n",
        "  else:\n",
        "    t=i*0.15\n",
        "    tax.append(t)\n",
        "print(tax)"
      ],
      "metadata": {
        "colab": {
          "base_uri": "https://localhost:8080/"
        },
        "id": "zs-nI-hSIhTG",
        "outputId": "18b44c10-7e02-4b1c-d182-b46a1aabbacd"
      },
      "execution_count": null,
      "outputs": [
        {
          "output_type": "stream",
          "name": "stdout",
          "text": [
            "[10050.0, 4500.0, 13350.0, 3400.0, 5000.0]\n"
          ]
        }
      ]
    },
    {
      "cell_type": "code",
      "source": [
        "sal=[67000,45000,89000,34000,50000]\n",
        "tax=[i*0.1 if i<=50000 else i*0.15 for i in sal]\n",
        "print(tax)"
      ],
      "metadata": {
        "colab": {
          "base_uri": "https://localhost:8080/"
        },
        "id": "9uWHSNWJLLD0",
        "outputId": "3a6e8490-add5-4966-f822-1bf3fa91a1db"
      },
      "execution_count": null,
      "outputs": [
        {
          "output_type": "stream",
          "name": "stdout",
          "text": [
            "[10050.0, 4500.0, 13350.0, 3400.0, 5000.0]\n"
          ]
        }
      ]
    }
  ]
}